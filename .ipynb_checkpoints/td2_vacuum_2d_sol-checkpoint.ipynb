{
 "cells": [
  {
   "cell_type": "markdown",
   "id": "832d5a06",
   "metadata": {},
   "source": [
    "# Agents réflexe : avec et sans mémoire.\n",
    "\n",
    "\n",
    "\n",
    "L’objectif de ce TD est l’exploration de deux agents réflexe : avec et sans mémoire :\n",
    "- simple relex agent\n",
    "- model based agent\n",
    "\n",
    "Il est fourni avec trois fichiers squelettes agents.py,  vacuum_trivial.py, et vacuum_2d.py.\n",
    "Ces fichiers ont été développés à base des codes Python fournis pour le livre Intelligence artificielle : une approche moderne (AIMA) https://github.com/aimacode/aima-python.  \n",
    "\n",
    "Dans certaines questions, il vous est demandé de compléter des parties de codes. \n",
    "\n",
    " #### Commençons par tout importer à partir du module agents."
   ]
  },
  {
   "cell_type": "code",
   "execution_count": null,
   "id": "9fbef93f",
   "metadata": {},
   "outputs": [],
   "source": [
    "from util import  *  \n",
    "from agents import *\n",
    "from trivial_vacuum import *\n"
   ]
  },
  {
   "attachments": {
    "vacuum2d.png": {
     "image/png": "[encoded data removed]"
    }
   },
   "cell_type": "markdown",
   "id": "be15fba3",
   "metadata": {},
   "source": [
    "# II. Agent aspirateur en 2D\n",
    "\n",
    "Un robot est situé dans une piéce qui contient des obstacles et de la poussiére sur le plancher (voir la figure). Le robot doit nettoyer la plancher en aspirant toute la poussière qui s'y trouve et ce en minimisant l’énergie d ́epensée. Le monde est représenté de la manièe suivante. La pièce est de forme carrée et toutes les positions possibles dans la piéce sont représentées par une grille de n x n. Les positions (0, 0) et (n, n) correspondent à la case supérieure gauche et la case inférieure droite, respectivement. Un obstacle occupe entièrement un certain nombre de cases. Le robot ne pourra jamais se déplacer à une case occupée par un obstacle et, évidemment, n’aura pas de poussièe à aspirer àcet endroit. Il ne pourra pas non plus sortir de la grille (on suppose qu’un mur entoure toute la grille).\n",
    "\n",
    "![vacuum2d.png](attachment:vacuum2d.png)\n",
    "\n",
    "\n"
   ]
  },
  {
   "cell_type": "markdown",
   "id": "4b059150",
   "metadata": {},
   "source": [
    "### Commençons  par comprendre les classes \"Wall and Direction\""
   ]
  },
  {
   "cell_type": "code",
   "execution_count": null,
   "id": "15a22bc8",
   "metadata": {},
   "outputs": [],
   "source": [
    "# First we need a class to represent an obstacle (wall)\n",
    "class Wall(Thing):\n",
    "    pass\n"
   ]
  },
  {
   "cell_type": "code",
   "execution_count": null,
   "id": "2ad3b2dd",
   "metadata": {},
   "outputs": [],
   "source": [
    "psource(Direction)"
   ]
  },
  {
   "cell_type": "code",
   "execution_count": null,
   "id": "101a2413",
   "metadata": {
    "scrolled": true
   },
   "outputs": [],
   "source": [
    "d = Direction(Direction.R) # check also  'down', 'right' and 'left'\n",
    "l1 = d + Direction.L\n",
    "print(l1.direction)\n",
    "\n",
    "\n",
    "l2 = d + Direction.R\n",
    "print(l2.direction) "
   ]
  },
  {
   "cell_type": "code",
   "execution_count": null,
   "id": "9d91c2e4",
   "metadata": {},
   "outputs": [],
   "source": [
    "d = Direction(Direction.L)\n",
    "new_loc = d.move_forward((0, 0))\n",
    "print((0, 0), \"--move_forward-->\", new_loc)"
   ]
  },
  {
   "cell_type": "code",
   "execution_count": null,
   "id": "6895711f",
   "metadata": {
    "scrolled": true
   },
   "outputs": [],
   "source": [
    "from vacuum_2d import VacuumEnvironment\n",
    "psource(VacuumEnvironment)"
   ]
  },
  {
   "cell_type": "markdown",
   "id": "fe2e01c5",
   "metadata": {},
   "source": [
    "# Quelle est la valeur de retour la fonction  percept?"
   ]
  },
  {
   "cell_type": "markdown",
   "id": "846feb8a",
   "metadata": {},
   "source": [
    "put your answer here:\n",
    "\n",
    "La fonction renvoie un tuple (statut, Bump) où status est l'état de la cellule dans laquelle se trouve l'agent (propre ou sale) et Bump est l'état de l'agent, qu'il ait affronté le mur ou non"
   ]
  },
  {
   "cell_type": "code",
   "execution_count": null,
   "id": "b8df8d10",
   "metadata": {},
   "outputs": [],
   "source": [
    "class RandomVacuumAgent(RandomAgent):\n",
    "    \"\"\" Randomly choose one of the actions from the 2d vacuum environment, \n",
    "    ignoring all percepts.\"\"\"\n",
    "\n",
    "    def __init__(self):\n",
    "        RandomAgent.__init__(self, [Action.NoOp, Action.Suck, Action.TurnLeft, Action.TurnRight, Action.Forward])\n",
    "        self.direction = Direction() "
   ]
  },
  {
   "cell_type": "code",
   "execution_count": null,
   "id": "6ca2dfb2",
   "metadata": {},
   "outputs": [],
   "source": [
    "randomAgent = RandomVacuumAgent()\n",
    "print(randomAgent.program(\"Any thing!\"))"
   ]
  },
  {
   "cell_type": "markdown",
   "id": "389a8e02",
   "metadata": {},
   "source": [
    "### Complètez le code suivant pour implementer un agent asperateur à simple reflèxe "
   ]
  },
  {
   "cell_type": "code",
   "execution_count": null,
   "id": "24122b9f",
   "metadata": {},
   "outputs": [],
   "source": [
    "class ReflexVacuumAgent(Agent):\n",
    "    \"\"\"This agent performs the action Suck if location status is Dirty,\n",
    "     otherwise it randomly choose one of the other possible actions \n",
    "     for a 2d vacuum environment.\"\"\"  \n",
    "    def __init__(self):\n",
    "        Agent.__init__(self)\n",
    "        self.direction = Direction()  \n",
    "        def  program(percept):  \n",
    "            status, bump = percept\n",
    "            if status== Dirty:\n",
    "                return Action.Suck\n",
    "            return random.choice([Action.TurnLeft, Action.TurnRight, Action.Forward])\n",
    "\n",
    "        self.program =  program\n",
    " "
   ]
  },
  {
   "cell_type": "markdown",
   "id": "7838a7a6",
   "metadata": {},
   "source": [
    "### Testez votre code:\n",
    "\n",
    "Utiliser l'agent de suivi TraceAgent pour visualiser le cycle perception/action"
   ]
  },
  {
   "cell_type": "code",
   "execution_count": null,
   "id": "9824ee09",
   "metadata": {},
   "outputs": [],
   "source": [
    "\n",
    "env = VacuumEnvironment()\n",
    "env.add_thing(Dirt(), (2, 2))\n",
    "env.add_thing(Dirt(), (3, 3))\n",
    "env.add_thing(Dirt(), (4, 4))\n",
    "#agent =  ReflexVacuumAgent() \n",
    "agent = TraceAgent(agent)\n",
    "env.add_thing(agent, (1,1))\n",
    "\n",
    " \n",
    "env.run()\n",
    "print(\"agent performance:\", agent.performance)"
   ]
  },
  {
   "cell_type": "code",
   "execution_count": null,
   "id": "f314ffba",
   "metadata": {},
   "outputs": [],
   "source": [
    "# if the agent is in location 2,1 with direction Down, what is the next location if it execute the action Forward \n",
    "agent = ReflexVacuumAgent()  \n",
    "agent.location = (2,1)\n",
    "agent.direction = Direction( Direction.D)\n",
    "new_location = agent.direction.move_forward(agent.location)\n",
    "print(new_location)"
   ]
  },
  {
   "cell_type": "markdown",
   "id": "a31aba02",
   "metadata": {},
   "source": [
    "### Le script vacuum2d.py mis en oeuvre des classes  qui simulent l’environnement de notre agent.\n",
    "1. Ouvrez le script vacuum2d.py  et complètez les code de la classe  ReflexVacuumAgent \n",
    " \n",
    "2. Implementez dans la cellule suivante une classe MyModelBasedVacuumAgent qui simule un agent aspirateur 2d à simple réflèxe basé sur modèle"
   ]
  },
  {
   "cell_type": "code",
   "execution_count": null,
   "id": "185abfe7",
   "metadata": {},
   "outputs": [],
   "source": [
    "class ModelBasedVacuumAgent(Agent):\n",
    "    \"\"\"This agent  keeps track of what locations are clean or dirty, obstacle.\"\n",
    "     it performs the action Suck if location status is Dirty, \n",
    "     otherwise it randomly choose one of the other possible actions \n",
    "     for a 2d vacuum environment. But, it tries not to return to a position \n",
    "     already visited (clean). More particularly, if it is about to move to a position \n",
    "     already clean, it will prevent itself from doing so if at least one of the other \n",
    "     three adjacent positions has not been visited and is accessible \n",
    "     (this is neither a wall or an obstacle). \n",
    "     \"\"\"\n",
    "\n",
    "    def __init__(self):\n",
    "        Agent.__init__(self)\n",
    "        self.direction = Direction()\n",
    "        self.model = {'Obstacle': [], 'Clean': []}\n",
    "        self.program = self.new_program\n",
    "\n",
    "    def new_program(self, percepts):\n",
    "        location_status, agent_status = percepts\n",
    "        loc_to_forward_to = self.direction.move_forward(self.location)\n",
    "        if agent_status == Bump:\n",
    "            self.model['Obstacle'].append(loc_to_forward_to)\n",
    "        if location_status == Dirty:\n",
    "            return Action.Suck\n",
    "        else:\n",
    "            while True:\n",
    "                action = random.choice([Action.Forward, Action.TurnLeft, Action.TurnRight])\n",
    "                if not action == Action.Forward:\n",
    "                    return action\n",
    "                if loc_to_forward_to in self.model['Obstacle']:\n",
    "                    continue\n",
    "                elif not (loc_to_forward_to in self.model['Clean']):\n",
    "                    return action\n",
    "                else:\n",
    "                    x, y = self.location\n",
    "                    neighbours = [(x - 1, y), (x, y - 1), (x + 1, y), (x, y + 1)]\n",
    "                    neighbours.remove(loc_to_forward_to)\n",
    "                    not_visited = list(filter(lambda z:\n",
    "                                              not (z in self.model.get('Clean') and z in self.model.get('Obstacle')),\n",
    "                                              neighbours))\n",
    "                    if len(not_visited) == 0:\n",
    "                        return action\n",
    "\n"
   ]
  },
  {
   "cell_type": "markdown",
   "id": "7f498758",
   "metadata": {},
   "source": [
    "### Lancez le simulateur par execution de la cellule suivante puis comparer les diffrents types d'agents\n",
    "1. download this file as pyhton (.py) File --> Download as --> pyhton\n",
    "2. decomenter la cellule suivante; le programme graphique simulator s'exectra puis repondre à\n",
    "\n",
    "Q1. Interpretez les résultats obtenus par le teste des trois agents dans 4 environnements differents \n",
    "\n",
    "Q2. Proposez un environnement dans lequel l’agent réflexe simple surpasse l’agent aléatoire  \n",
    "\n",
    "Q33. Proposez une implémentation qui simule les changement dynamique dans l’environnement  "
   ]
  },
  {
   "cell_type": "code",
   "execution_count": null,
   "id": "2ea1d603",
   "metadata": {},
   "outputs": [],
   "source": [
    "#import simulator"
   ]
  },
  {
   "cell_type": "code",
   "execution_count": null,
   "id": "3fcd98ff",
   "metadata": {},
   "outputs": [],
   "source": []
  }
 ],
 "metadata": {
  "kernelspec": {
   "display_name": "Python 3 (ipykernel)",
   "language": "python",
   "name": "python3"
  },
  "language_info": {
   "codemirror_mode": {
    "name": "ipython",
    "version": 3
   },
   "file_extension": ".py",
   "mimetype": "text/x-python",
   "name": "python",
   "nbconvert_exporter": "python",
   "pygments_lexer": "ipython3",
   "version": "3.9.12"
  }
 },
 "nbformat": 4,
 "nbformat_minor": 5
}
